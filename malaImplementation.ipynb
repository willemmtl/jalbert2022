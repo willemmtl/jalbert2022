{
 "cells": [
  {
   "cell_type": "code",
   "execution_count": 51,
   "metadata": {},
   "outputs": [],
   "source": [
    "using Mamba, Distributions, LinearAlgebra"
   ]
  },
  {
   "cell_type": "code",
   "execution_count": 10,
   "metadata": {},
   "outputs": [
    {
     "data": {
      "text/plain": [
       "Dict{Symbol, Any} with 1 entry:\n",
       "  :y => [10.9193, 8.95014, 4.90419, 4.54082, 5.66785, 7.85453, 8.30082, 3.37796…"
      ]
     },
     "metadata": {},
     "output_type": "display_data"
    }
   ],
   "source": [
    "# Génération des données fake\n",
    "\n",
    "nobs = 1000;\n",
    "\n",
    "line = Dict{Symbol, Any}(\n",
    "  :y => rand(Normal(8, 4), nobs);\n",
    ")"
   ]
  },
  {
   "cell_type": "code",
   "execution_count": 18,
   "metadata": {},
   "outputs": [
    {
     "data": {
      "text/plain": [
       "Object of type \"Model\"\n",
       "-------------------------------------------------------------------------------\n",
       "y:\n",
       "An unmonitored node of type \"0-element ArrayStochastic{1}\"\n",
       "Float64[]\n",
       "-------------------------------------------------------------------------------\n",
       "mu:\n",
       "A monitored node of type \"ScalarStochastic\"\n",
       "NaN\n"
      ]
     },
     "metadata": {},
     "output_type": "display_data"
    }
   ],
   "source": [
    "# Model Specification\n",
    "\n",
    "model = Model(\n",
    "\n",
    "    y = Stochastic(1,\n",
    "        mu -> Normal(mu, 4),\n",
    "        false\n",
    "    ),\n",
    "\n",
    "    mu = Stochastic(\n",
    "        () -> Flat(),\n",
    "        true,\n",
    "    ),\n",
    "\n",
    ")"
   ]
  },
  {
   "cell_type": "code",
   "execution_count": 47,
   "metadata": {},
   "outputs": [
    {
     "data": {
      "text/plain": [
       "1-element Vector{Sampler{Mamba.MALATune}}:\n",
       " An object of type \"Sampler{Mamba.MALATune}\"\n",
       "Sampling Block Nodes:\n",
       "[:mu]\n",
       "\n",
       "CodeInfo(\n",
       "\u001b[90m1 ─\u001b[39m %1 = (Mamba.var\"#259#261\"{Symbol, Tuple{Float64}}(:forward, (0.01,)))(model, block)\u001b[36m::Dict{Symbol, Any}\u001b[39m\n",
       "\u001b[90m└──\u001b[39m      return %1\n",
       ") => Dict{Symbol, Any}\n"
      ]
     },
     "metadata": {},
     "output_type": "display_data"
    }
   ],
   "source": [
    "# Sampling scheme\n",
    "\n",
    "scheme = [MALA(:mu, 0.01)]"
   ]
  },
  {
   "cell_type": "code",
   "execution_count": 48,
   "metadata": {},
   "outputs": [
    {
     "data": {
      "text/plain": [
       "1-element Vector{Dict{Symbol, Any}}:\n",
       " Dict(:y => [10.919302105943101, 8.95013674866212, 4.904191219844093, 4.540824170371513, 5.6678543923044415, 7.854526709440946, 8.300820183183346, 3.3779641057852583, 8.573588397861835, 5.953855254820975  …  10.217371477498965, 11.750796252880992, 6.536641489948038, 5.380104599711331, 10.49587279397883, 5.174549636421975, 5.718409903911141, 14.538589862113493, 15.15127412670339, 3.7827425874187623], :mu => 0)"
      ]
     },
     "metadata": {},
     "output_type": "display_data"
    }
   ],
   "source": [
    "## Initial Values\n",
    "inits = [\n",
    "  Dict{Symbol, Any}(\n",
    "    :y => line[:y],\n",
    "    :mu => 0,\n",
    "  )\n",
    "]"
   ]
  },
  {
   "cell_type": "code",
   "execution_count": 49,
   "metadata": {},
   "outputs": [
    {
     "name": "stdout",
     "output_type": "stream",
     "text": [
      "MCMC Simulation of 1000 Iterations x 1 Chain...\n",
      "\n",
      "Chain 1:   1% [0:00:01 of 0:00:01 remaining]\n",
      "Chain 1:  10% [0:00:00 of 0:00:00 remaining]\n",
      "Chain 1:  20% [0:00:00 of 0:00:00 remaining]\n",
      "Chain 1:  30% [0:00:00 of 0:00:00 remaining]\n",
      "Chain 1:  40% [0:00:00 of 0:00:00 remaining]\n",
      "Chain 1:  50% [0:00:00 of 0:00:00 remaining]\n",
      "Chain 1:  60% [0:00:00 of 0:00:00 remaining]\n",
      "Chain 1:  70% [0:00:00 of 0:00:00 remaining]\n",
      "Chain 1:  80% [0:00:00 of 0:00:00 remaining]\n",
      "Chain 1:  90% [0:00:00 of 0:00:00 remaining]\n",
      "Chain 1: 100% [0:00:00 of 0:00:00 remaining]\n",
      "\n"
     ]
    },
    {
     "data": {
      "text/plain": [
       "Object of type \"ModelChains\"\n",
       "\n",
       "Iterations = 252:1000\n",
       "Thinning interval = 2\n",
       "Chains = 1\n",
       "Samples per chain = 375\n",
       "\n",
       "[8.100450764391358; 7.999571491623298; … ; 7.809329018738572; 7.905559503792176;;;]"
      ]
     },
     "metadata": {},
     "output_type": "display_data"
    }
   ],
   "source": [
    "setsamplers!(model, scheme)\n",
    "sim = mcmc(model, line, inits, 1000, burnin=250, thin=2, chains=1)"
   ]
  },
  {
   "cell_type": "code",
   "execution_count": 50,
   "metadata": {},
   "outputs": [
    {
     "name": "stdout",
     "output_type": "stream",
     "text": [
      "Iterations = 252:1000\n",
      "Thinning interval = 2\n",
      "Chains = 1\n",
      "Samples per chain = 375\n",
      "\n",
      "Empirical Posterior Estimates:\n",
      "      Mean       SD      Naive SE       MCSE     ESS\n",
      "mu 7.9664072 0.1349279 0.0069676465 0.0030430308 375\n",
      "\n",
      "Quantiles:\n",
      "     2.5%     25.0%     50.0%     75.0%    97.5% \n",
      "mu 7.705501 7.8691919 7.9574676 8.064476 8.223114\n",
      "\n"
     ]
    }
   ],
   "source": [
    "describe(sim)"
   ]
  },
  {
   "cell_type": "code",
   "execution_count": 34,
   "metadata": {},
   "outputs": [
    {
     "ename": "MethodError",
     "evalue": "MethodError: no method matching sample!(::Sampler{Mamba.MALATune})\n\nClosest candidates are:\n  sample!(!Matched::Model)\n   @ Mamba ~/.julia/packages/Mamba/bdnmz/src/model/simulation.jl:93\n  sample!(!Matched::Model, !Matched::Integer)\n   @ Mamba ~/.julia/packages/Mamba/bdnmz/src/model/simulation.jl:93\n  sample!(!Matched::AMMVariate; args...)\n   @ Mamba ~/.julia/packages/Mamba/bdnmz/src/samplers/amm.jl:58\n  ...\n",
     "output_type": "error",
     "traceback": [
      "MethodError: no method matching sample!(::Sampler{Mamba.MALATune})\n",
      "\n",
      "Closest candidates are:\n",
      "  sample!(!Matched::Model)\n",
      "   @ Mamba ~/.julia/packages/Mamba/bdnmz/src/model/simulation.jl:93\n",
      "  sample!(!Matched::Model, !Matched::Integer)\n",
      "   @ Mamba ~/.julia/packages/Mamba/bdnmz/src/model/simulation.jl:93\n",
      "  sample!(!Matched::AMMVariate; args...)\n",
      "   @ Mamba ~/.julia/packages/Mamba/bdnmz/src/samplers/amm.jl:58\n",
      "  ...\n",
      "\n",
      "\n",
      "Stacktrace:\n",
      " [1] top-level scope\n",
      "   @ ~/Documents/dd/maitrise/recherche/jalbert2022/jl_notebook_cell_df34fa98e69747e1a8f8a730347b8e2f_X11sZmlsZQ==.jl:3"
     ]
    }
   ],
   "source": [
    "m = MALA(:mu, 0.01)\n",
    "\n",
    "sample!(m)"
   ]
  },
  {
   "cell_type": "code",
   "execution_count": 56,
   "metadata": {},
   "outputs": [
    {
     "data": {
      "text/plain": [
       "Cholesky{Float64, Matrix{Float64}}\n",
       "U factor:\n",
       "3×3 UpperTriangular{Float64, Matrix{Float64}}:\n",
       " 1.0  0.0  0.0\n",
       "  ⋅   1.0  0.0\n",
       "  ⋅    ⋅   1.0"
      ]
     },
     "metadata": {},
     "output_type": "display_data"
    }
   ],
   "source": [
    "U = cholesky(diagm(fill(1, 3)))"
   ]
  },
  {
   "cell_type": "code",
   "execution_count": null,
   "metadata": {},
   "outputs": [],
   "source": []
  }
 ],
 "metadata": {
  "kernelspec": {
   "display_name": "Julia 1.10.2",
   "language": "julia",
   "name": "julia-1.10"
  },
  "language_info": {
   "file_extension": ".jl",
   "mimetype": "application/julia",
   "name": "julia",
   "version": "1.10.2"
  }
 },
 "nbformat": 4,
 "nbformat_minor": 2
}
