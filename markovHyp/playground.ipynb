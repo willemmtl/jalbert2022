{
 "cells": [
  {
   "cell_type": "code",
   "execution_count": 60,
   "metadata": {},
   "outputs": [],
   "source": [
    "using CSV, DataFrames, Gadfly, Distributions, SparseArrays, LinearAlgebra\n",
    "\n",
    "include(\"../iGMRF.jl\");\n",
    "include(\"../dataGen.jl\");"
   ]
  },
  {
   "cell_type": "markdown",
   "metadata": {},
   "source": [
    "# Création de la grille à 9 cellules\n",
    "\n",
    "Chaque cellule est représentée par un triplet $[\\mu, \\sigma, \\xi]$ indiquant les vraie valeur des paramètres de la GEV à déterminer."
   ]
  },
  {
   "cell_type": "code",
   "execution_count": 61,
   "metadata": {},
   "outputs": [],
   "source": [
    "# Seed\n",
    "Random.seed!(400)\n",
    "# Dimensions de la grille\n",
    "m₁ = 3;\n",
    "m₂ = 3;\n",
    "# Nb total de cellules\n",
    "m = m₁ * m₂\n",
    "# Hyperparamètres\n",
    "κᵤ = 100.0;\n",
    "# Matrice de structure\n",
    "F = iGMRF(m₁, m₂, κᵤ);\n",
    "# Grille cible\n",
    "grid_target = generateTargetGrid(F);\n",
    "grid_target[:, :, 1] = grid_target[:, :, 1] .+ 10;"
   ]
  },
  {
   "cell_type": "code",
   "execution_count": null,
   "metadata": {},
   "outputs": [],
   "source": [
    "grid_target[:, :, 1]"
   ]
  },
  {
   "cell_type": "code",
   "execution_count": null,
   "metadata": {},
   "outputs": [],
   "source": [
    "grid_target[:, :, 2]"
   ]
  },
  {
   "cell_type": "code",
   "execution_count": null,
   "metadata": {},
   "outputs": [],
   "source": [
    "grid_target[:, :, 3]"
   ]
  },
  {
   "cell_type": "markdown",
   "metadata": {},
   "source": [
    "# Génération de données\n",
    "\n",
    "Le but est de générer des données sur chaque cellule à partir des paramètres de la GEV de la grille cible."
   ]
  },
  {
   "cell_type": "code",
   "execution_count": 65,
   "metadata": {},
   "outputs": [],
   "source": [
    "nobs = 100;\n",
    "data = generateData(grid_target, nobs);"
   ]
  },
  {
   "cell_type": "code",
   "execution_count": null,
   "metadata": {},
   "outputs": [],
   "source": [
    "data"
   ]
  },
  {
   "cell_type": "markdown",
   "metadata": {},
   "source": [
    "# Modèle "
   ]
  },
  {
   "cell_type": "code",
   "execution_count": null,
   "metadata": {},
   "outputs": [],
   "source": [
    "include(\"markovHyp.jl\");\n",
    "\n",
    "niter = 10000\n",
    "δ² = 0.2\n",
    "κᵤ₀ = 10\n",
    "μ₀ = zeros(m)\n",
    "\n",
    "θ = gibbs(niter, data, m₁=m₁, m₂=m₂, δ²=δ², κᵤ₀=κᵤ₀, μ₀=μ₀);\n",
    "κᵤ = θ[:, 1, 1];\n",
    "μ = θ[:, 2:end, 1];\n",
    "\n",
    "warming_size = Int(0.2 * niter);\n",
    "\n",
    "θsampling = θ[warming_size:end, :, :];\n",
    "κ̂ᵤ = mean(θsampling.value[:, 1, 1]);\n",
    "μ̂ = mean(θsampling.value[:, 2:end, 1], dims=1);"
   ]
  },
  {
   "cell_type": "code",
   "execution_count": null,
   "metadata": {},
   "outputs": [],
   "source": [
    "changerate(θ)"
   ]
  },
  {
   "cell_type": "code",
   "execution_count": null,
   "metadata": {},
   "outputs": [],
   "source": [
    "# Trace de μ₁\n",
    "\n",
    "plot(y=θ.value[:, 2, 1], Geom.line)"
   ]
  },
  {
   "cell_type": "code",
   "execution_count": null,
   "metadata": {},
   "outputs": [],
   "source": [
    "# Phase d'échantillonnage de μ₁\n",
    "\n",
    "plot(y=θsampling.value[:, 2, 1], Geom.line)"
   ]
  },
  {
   "cell_type": "code",
   "execution_count": null,
   "metadata": {},
   "outputs": [],
   "source": [
    "# Densité expérimentale de μ₁\n",
    "\n",
    "plot(x=θsampling.value[:, 2, 1], Geom.histogram)"
   ]
  },
  {
   "cell_type": "code",
   "execution_count": null,
   "metadata": {},
   "outputs": [],
   "source": [
    "# Trace de κᵤ\n",
    "\n",
    "plot(y=θ.value[:, 1, 1], Geom.line)"
   ]
  },
  {
   "cell_type": "code",
   "execution_count": null,
   "metadata": {},
   "outputs": [],
   "source": [
    "# Densité expérimentale de κᵤ\n",
    "\n",
    "plot(x=θsampling.value[:, 1, 1], Geom.histogram)"
   ]
  },
  {
   "cell_type": "code",
   "execution_count": null,
   "metadata": {},
   "outputs": [],
   "source": [
    "κ̂ᵤ"
   ]
  },
  {
   "cell_type": "code",
   "execution_count": null,
   "metadata": {},
   "outputs": [],
   "source": [
    "summarystats(θsampling)"
   ]
  },
  {
   "cell_type": "code",
   "execution_count": null,
   "metadata": {},
   "outputs": [],
   "source": [
    "reshape(μ̂, m₁, m₂)'"
   ]
  },
  {
   "cell_type": "code",
   "execution_count": null,
   "metadata": {},
   "outputs": [],
   "source": [
    "grid_target[:, :, 1]"
   ]
  },
  {
   "cell_type": "markdown",
   "metadata": {},
   "source": [
    "Distance entre les deux matrices"
   ]
  },
  {
   "cell_type": "code",
   "execution_count": null,
   "metadata": {},
   "outputs": [],
   "source": [
    "norm(reshape(μ̂, m₁, m₂)' .- grid_target[:, :, 1], 2) / m"
   ]
  },
  {
   "cell_type": "code",
   "execution_count": null,
   "metadata": {},
   "outputs": [],
   "source": [
    "describe(θsampling)"
   ]
  }
 ],
 "metadata": {
  "kernelspec": {
   "display_name": "Julia 1.10.5",
   "language": "julia",
   "name": "julia-1.10"
  },
  "language_info": {
   "file_extension": ".jl",
   "mimetype": "application/julia",
   "name": "julia",
   "version": "1.10.5"
  }
 },
 "nbformat": 4,
 "nbformat_minor": 2
}
