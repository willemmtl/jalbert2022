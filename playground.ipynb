{
 "cells": [
  {
   "cell_type": "code",
   "execution_count": 6,
   "metadata": {},
   "outputs": [],
   "source": [
    "using CSV, DataFrames, Gadfly, Distributions, SparseArrays, LinearAlgebra, Mamba, ForwardDiff\n",
    "\n",
    "include(\"iGMRF.jl\");\n",
    "include(\"dataGen.jl\");"
   ]
  },
  {
   "cell_type": "markdown",
   "metadata": {},
   "source": [
    "# Création de la grille à 9 cellules\n",
    "\n",
    "Chaque cellule est représentée par un triplet $[\\mu, \\sigma, \\xi]$ indiquant les vraie valeur des paramètres de la GEV à déterminer."
   ]
  },
  {
   "cell_type": "code",
   "execution_count": 7,
   "metadata": {},
   "outputs": [],
   "source": [
    "# Seed\n",
    "Random.seed!(400)\n",
    "# Dimensions de la grille\n",
    "m₁ = 3;\n",
    "m₂ = 3;\n",
    "# Nb total de cellules\n",
    "m = m₁ * m₂\n",
    "# Insuffisance de rang de la matrice de structure\n",
    "r = 1;\n",
    "# Hyperparamètres\n",
    "κᵤ = 100.0;\n",
    "# Matrice de structure\n",
    "F = iGMRF(m₁, m₂, κᵤ);"
   ]
  },
  {
   "cell_type": "code",
   "execution_count": 47,
   "metadata": {},
   "outputs": [],
   "source": [
    "grid_target = generateTargetGrid(F) .+ 10;"
   ]
  },
  {
   "cell_type": "code",
   "execution_count": 48,
   "metadata": {},
   "outputs": [
    {
     "data": {
      "text/plain": [
       "3×3 Matrix{Float64}:\n",
       " 9.88554  10.0053   10.1517\n",
       " 9.92388   9.96065  10.1539\n",
       " 9.85489   9.99319  10.071"
      ]
     },
     "metadata": {},
     "output_type": "display_data"
    }
   ],
   "source": [
    "grid_target[:, :, 1]"
   ]
  },
  {
   "cell_type": "markdown",
   "metadata": {},
   "source": [
    "# Génération de données\n",
    "\n",
    "Le but est de générer des données sur chaque cellule à partir des paramètres de la GEV de la grille cible."
   ]
  },
  {
   "cell_type": "code",
   "execution_count": 49,
   "metadata": {},
   "outputs": [],
   "source": [
    "nobs = 1000\n",
    "data = generateData(grid_target, nobs);"
   ]
  },
  {
   "cell_type": "markdown",
   "metadata": {},
   "source": [
    "# Modèle "
   ]
  },
  {
   "cell_type": "code",
   "execution_count": 50,
   "metadata": {},
   "outputs": [],
   "source": [
    "## Log-transformed Posterior(μ | κᵤ=100) + Constant and Gradient Vector\n",
    "logπ̃grad = function(μ::DenseVector)\n",
    "  logπ̃(μ::DenseVector) = sum(loglikelihood.(GeneralizedExtremeValue.(μ, 1, 0), data)) - 100 * μ' * F.G.W * μ / 2\n",
    "  grad = ForwardDiff.gradient(logπ̃, μ)\n",
    "  logπ̃(μ), grad\n",
    "end\n",
    "\n",
    "n = 10000\n",
    "sim1 = Chains(n, m, names = [\"μ1\", \"μ2\", \"μ3\", \"μ4\", \"μ5\", \"μ6\", \"μ7\", \"μ8\", \"μ9\"])\n",
    "sim2 = Chains(n, m, names = [\"μ1\", \"μ2\", \"μ3\", \"μ4\", \"μ5\", \"μ6\", \"μ7\", \"μ8\", \"μ9\"])\n",
    "epsilon = 0.001\n",
    "Sigma = Matrix{Float64}(I, m, m)\n",
    "theta1 = MALAVariate(zeros(m), epsilon, logπ̃grad)\n",
    "theta2 = MALAVariate(zeros(m), epsilon, Sigma, logπ̃grad)\n",
    "for i in 1:n\n",
    "  sample!(theta1)\n",
    "  sample!(theta2)\n",
    "  sim1[i, :, 1] = theta1\n",
    "  sim2[i, :, 1] = theta2\n",
    "end\n",
    "\n",
    "μ̂₁ = mean(sim1.value, dims=1);\n",
    "μ̂₂ = mean(sim2.value, dims=1);"
   ]
  },
  {
   "cell_type": "code",
   "execution_count": 51,
   "metadata": {},
   "outputs": [],
   "source": [
    "draw(plot(sim1), fmt=:svg, filename=\"plots/sim1.svg\", nrow=9, height=24inch)"
   ]
  },
  {
   "cell_type": "code",
   "execution_count": 52,
   "metadata": {},
   "outputs": [
    {
     "data": {
      "text/plain": [
       "3×3 adjoint(::Matrix{Float64}) with eltype Float64:\n",
       " 9.82989  9.98427  10.0526\n",
       " 9.82943  9.91811  10.1377\n",
       " 9.83266  9.93553  10.0426"
      ]
     },
     "metadata": {},
     "output_type": "display_data"
    }
   ],
   "source": [
    "reshape(μ̂₁, m₁, m₂)'"
   ]
  },
  {
   "cell_type": "code",
   "execution_count": 53,
   "metadata": {},
   "outputs": [
    {
     "data": {
      "text/plain": [
       "3×3 Matrix{Float64}:\n",
       " 9.88554  10.0053   10.1517\n",
       " 9.92388   9.96065  10.1539\n",
       " 9.85489   9.99319  10.071"
      ]
     },
     "metadata": {},
     "output_type": "display_data"
    }
   ],
   "source": [
    "grid_target[:, :, 1]"
   ]
  },
  {
   "cell_type": "markdown",
   "metadata": {},
   "source": [
    "Distance entre les deux matrices"
   ]
  },
  {
   "cell_type": "code",
   "execution_count": 54,
   "metadata": {},
   "outputs": [
    {
     "data": {
      "text/plain": [
       "0.018915223113039645"
      ]
     },
     "metadata": {},
     "output_type": "display_data"
    }
   ],
   "source": [
    "norm(reshape(μ̂₁, m₁, m₂)' .- grid_target[:, :, 1], 2) / m"
   ]
  },
  {
   "cell_type": "code",
   "execution_count": null,
   "metadata": {},
   "outputs": [],
   "source": []
  }
 ],
 "metadata": {
  "kernelspec": {
   "display_name": "Julia 1.10.2",
   "language": "julia",
   "name": "julia-1.10"
  },
  "language_info": {
   "file_extension": ".jl",
   "mimetype": "application/julia",
   "name": "julia",
   "version": "1.10.2"
  }
 },
 "nbformat": 4,
 "nbformat_minor": 2
}
