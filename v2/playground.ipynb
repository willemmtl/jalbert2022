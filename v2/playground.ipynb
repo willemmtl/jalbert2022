{
 "cells": [
  {
   "cell_type": "code",
   "execution_count": 1,
   "metadata": {},
   "outputs": [],
   "source": [
    "using CSV, DataFrames, Gadfly, Distributions, SparseArrays\n",
    "\n",
    "include(\"grid.jl\");\n",
    "include(\"GMRF.jl\");\n",
    "include(\"gibbs.jl\");"
   ]
  },
  {
   "cell_type": "markdown",
   "metadata": {},
   "source": [
    "# Création de la grille à 9 cellules\n",
    "\n",
    "Chaque cellule est représentée par un triplet $[\\mu, \\sigma, \\xi]$ indiquant les vraie valeur des paramètres de la GEV à déterminer."
   ]
  },
  {
   "cell_type": "code",
   "execution_count": 2,
   "metadata": {},
   "outputs": [],
   "source": [
    "# Dimensions de la grille\n",
    "m₁ = 3;\n",
    "m₂ = 3;\n",
    "# Nb total de cellules\n",
    "m = m₁ * m₂\n",
    "# Insuffisance de rang de la matrice de structure\n",
    "r = 1;\n",
    "# Hyperparamètres\n",
    "κᵤ = 100.0;\n",
    "# Matrice de structure\n",
    "W = buildStructureMatrix(m₁, m₂);\n",
    "# Variances instrumentales de Metropolis pour μ et ϕ\n",
    "σ² = 0.0015;"
   ]
  },
  {
   "cell_type": "code",
   "execution_count": 3,
   "metadata": {},
   "outputs": [],
   "source": [
    "grid_target = generateTargetGridV1(m₁=m₁, m₂=m₂, r=r, κᵤ=κᵤ, W=W, σ²=σ²);"
   ]
  },
  {
   "cell_type": "markdown",
   "metadata": {},
   "source": [
    "# Génération de données\n",
    "\n",
    "Le but est de générer des données sur chaque cellule à partir des paramètres de la GEV de la grille cible."
   ]
  },
  {
   "cell_type": "code",
   "execution_count": 4,
   "metadata": {},
   "outputs": [],
   "source": [
    "nobs = 1000\n",
    "data = generateData(grid_target, nobs);"
   ]
  },
  {
   "cell_type": "markdown",
   "metadata": {},
   "source": [
    "# Modèle "
   ]
  },
  {
   "cell_type": "code",
   "execution_count": 17,
   "metadata": {},
   "outputs": [],
   "source": [
    "include(\"gibbs.jl\");\n",
    "\n",
    "niter = 100\n",
    "itMetropolis = 100\n",
    "δ² = [1000, 0.2, 0.001]\n",
    "κᵤ₀ = 10\n",
    "u₀ = zeros(m)\n",
    "μ₀ = zeros(m)\n",
    "W = buildStructureMatrix(m₁, m₂);\n",
    "\n",
    "κᵤ, u, μ = gibbs(niter, data, itMetropolis=itMetropolis, δ²=δ², κᵤ₀=κᵤ₀, u₀=u₀, μ₀=μ₀, W=W);\n"
   ]
  },
  {
   "cell_type": "code",
   "execution_count": 18,
   "metadata": {},
   "outputs": [
    {
     "data": {
      "text/plain": [
       "3×3 Matrix{Float64}:\n",
       " 0.0079232   0.00597513  0.0263595\n",
       " 0.00668478  0.00195074  0.00218087\n",
       " 0.017951    0.00720644  0.00536396"
      ]
     },
     "metadata": {},
     "output_type": "display_data"
    }
   ],
   "source": [
    "reshape(μ[:, end], 3, 3)"
   ]
  },
  {
   "cell_type": "code",
   "execution_count": 7,
   "metadata": {},
   "outputs": [
    {
     "data": {
      "text/plain": [
       "3×3 Matrix{Float64}:\n",
       " 0.62147   0.647534  0.669844\n",
       " 0.573305  0.669176  0.641178\n",
       " 0.666454  0.570453  0.702602"
      ]
     },
     "metadata": {},
     "output_type": "display_data"
    }
   ],
   "source": [
    "grid_target[:, :, 1]"
   ]
  },
  {
   "cell_type": "code",
   "execution_count": 16,
   "metadata": {},
   "outputs": [
    {
     "name": "stdout",
     "output_type": "stream",
     "text": [
      "[-0.17595907795099397, -0.2945729005760615, -0.3495982743986302, -0.17632810989187425, -0.23835865485455862, -0.18944837056093733, -0.16739640790755278, -0.13807879258372477, -0.25011881028119876]\n",
      "Taux d'acceptation : 31.315657828914457%\n"
     ]
    },
    {
     "data": {
      "text/plain": [
       "6.799409093526267"
      ]
     },
     "metadata": {},
     "output_type": "display_data"
    }
   ],
   "source": [
    "include(\"metropolis.jl\")\n",
    "\n",
    "u = generateSpatialEffect(200, θ₀=zeros(m), m=m, r=r, κ=100, W=W, σ²=0.0015)\n",
    "\n",
    "println(u)\n",
    "\n",
    "f̃κᵤ(κᵤ::Real) = fcκᵤ(κᵤ, W=W, u=u)\n",
    "\n",
    "metropolisUnivariate(2000, θ₀=10, δ²=5, f̃=f̃κᵤ, printAcc=true)[end]"
   ]
  },
  {
   "cell_type": "code",
   "execution_count": null,
   "metadata": {},
   "outputs": [],
   "source": []
  }
 ],
 "metadata": {
  "kernelspec": {
   "display_name": "Julia 1.10.2",
   "language": "julia",
   "name": "julia-1.10"
  },
  "language_info": {
   "file_extension": ".jl",
   "mimetype": "application/julia",
   "name": "julia",
   "version": "1.10.2"
  }
 },
 "nbformat": 4,
 "nbformat_minor": 2
}
